{
 "cells": [
  {
   "cell_type": "code",
   "execution_count": 2,
   "metadata": {},
   "outputs": [],
   "source": [
    "from utils.run import compute_total_degree\n",
    "from evaluateModels import problems_from_densities, get_input_files"
   ]
  },
  {
   "cell_type": "code",
   "execution_count": 3,
   "metadata": {},
   "outputs": [
    {
     "data": {
      "text/plain": [
       "<function evaluateModels.get_input_files(input_dir)>"
      ]
     },
     "execution_count": 3,
     "metadata": {},
     "output_type": "execute_result"
    }
   ],
   "source": [
    "get_input_files"
   ]
  },
  {
   "cell_type": "code",
   "execution_count": 4,
   "metadata": {},
   "outputs": [
    {
     "name": "stdout",
     "output_type": "stream",
     "text": [
      "Problem:   10 (query    1/   1)/  10 (                                     latte_gasp/data/r5_b0_d4_m10_e1_s666/r5_b0_d4_exp1_s666_10.json)\r"
     ]
    }
   ],
   "source": [
    "results_total_degree ={}\n",
    "\n",
    "# for every folder in latte_gasp/data\n",
    "import os\n",
    "for folder_name in os.listdir(\"latte_gasp/data\"):\n",
    "    folder_results = {}\n",
    "    # for every json file in it\n",
    "    # for file_name in os.listdir(f\"latte_gasp/data/{folder_name}\"):\n",
    "    #     file_results = []\n",
    "    #     if file_name.endswith(\".json\"):\n",
    "    #         # compute the total degree\n",
    "    files = get_input_files(f\"latte_gasp/data/{folder_name}\")\n",
    "    i = -1\n",
    "    # results_per_file = {}\n",
    "    for i, (filename, query_n, domain, support, weight) in enumerate(problems_from_densities(files)):\n",
    "        results_total_degree[filename] = compute_total_degree(weight)\n",
    "    # folder_results[folder_name] = results_per_file"
   ]
  },
  {
   "cell_type": "code",
   "execution_count": 5,
   "metadata": {},
   "outputs": [
    {
     "data": {
      "image/png": "[encoded data removed]",
      "text/plain": [
       "<Figure size 640x480 with 1 Axes>"
      ]
     },
     "metadata": {},
     "output_type": "display_data"
    }
   ],
   "source": [
    "import matplotlib.pyplot as plt\n",
    "\n",
    "plt.hist(results_total_degree.values(), bins=100)\n",
    "plt.show()"
   ]
  },
  {
   "cell_type": "code",
   "execution_count": 6,
   "metadata": {},
   "outputs": [
    {
     "data": {
      "text/plain": [
       "6"
      ]
     },
     "execution_count": 6,
     "metadata": {},
     "output_type": "execute_result"
    }
   ],
   "source": [
    "results_total_degree[\"latte_gasp/data/r4_b0_d3_m10_e1_s666/r4_b0_d3_exp1_s666_01.json\"]"
   ]
  },
  {
   "cell_type": "code",
   "execution_count": 7,
   "metadata": {},
   "outputs": [
    {
     "name": "stdout",
     "output_type": "stream",
     "text": [
      "Deleted latte_gasp/results/r5_b0_d4_m10_e2_s666/latte_gasp_data_r5_b0_d4_m10_e2_s666_SAE4WMI_torch_1738979421.json\n",
      "Deleted latte_gasp/results/r5_b0_d4_m10_e2_s666/latte_gasp_data_r5_b0_d4_m10_e2_s666_SAE4WMI_torch_1739032942.json\n",
      "Deleted latte_gasp/results/r5_b0_d4_m10_e2_s666/latte_gasp_data_r5_b0_d4_m10_e2_s666_SAE4WMI_torch_1739034227.json\n",
      "Deleted latte_gasp/results/r5_b0_d3_m10_e1_s666/latte_gasp_data_r5_b0_d3_m10_e1_s666_SAE4WMI_torch_1739033870.json\n",
      "Deleted latte_gasp/results/r5_b0_d3_m10_e1_s666/latte_gasp_data_r5_b0_d3_m10_e1_s666_SAE4WMI_torch_1738977009.json\n",
      "Deleted latte_gasp/results/r5_b0_d3_m10_e1_s666/latte_gasp_data_r5_b0_d3_m10_e1_s666_SAE4WMI_torch_1739032816.json\n",
      "Deleted latte_gasp/results/r4_b0_d3_m10_e1_s666/latte_gasp_data_r4_b0_d3_m10_e1_s666_SAE4WMI_torch_1738976479.json\n",
      "Deleted latte_gasp/results/r4_b0_d3_m10_e1_s666/latte_gasp_data_r4_b0_d3_m10_e1_s666_SAE4WMI_torch_1739032521.json\n",
      "Deleted latte_gasp/results/r4_b0_d3_m10_e1_s666/latte_gasp_data_r4_b0_d3_m10_e1_s666_SAE4WMI_torch_1739033583.json\n",
      "Deleted latte_gasp/results/r5_b0_d2_m10_e1_s666/latte_gasp_data_r5_b0_d2_m10_e1_s666_SAE4WMI_torch_1738976987.json\n",
      "Deleted latte_gasp/results/r5_b0_d2_m10_e1_s666/latte_gasp_data_r5_b0_d2_m10_e1_s666_SAE4WMI_torch_1739032788.json\n",
      "Deleted latte_gasp/results/r5_b0_d2_m10_e1_s666/latte_gasp_data_r5_b0_d2_m10_e1_s666_SAE4WMI_torch_1739033848.json\n",
      "Deleted latte_gasp/results/r3_b0_d4_m10_e1_s666/latte_gasp_data_r3_b0_d4_m10_e1_s666_SAE4WMI_torch_1739032450.json\n",
      "Deleted latte_gasp/results/r3_b0_d4_m10_e1_s666/latte_gasp_data_r3_b0_d4_m10_e1_s666_SAE4WMI_torch_1739033494.json\n",
      "Deleted latte_gasp/results/r3_b0_d4_m10_e1_s666/latte_gasp_data_r3_b0_d4_m10_e1_s666_SAE4WMI_torch_1738976395.json\n",
      "Deleted latte_gasp/results/r3_b0_d2_m10_e2_s666/latte_gasp_data_r3_b0_d2_m10_e2_s666_SAE4WMI_torch_1739032389.json\n",
      "Deleted latte_gasp/results/r3_b0_d2_m10_e2_s666/latte_gasp_data_r3_b0_d2_m10_e2_s666_SAE4WMI_torch_1738976350.json\n",
      "Deleted latte_gasp/results/r3_b0_d2_m10_e2_s666/latte_gasp_data_r3_b0_d2_m10_e2_s666_SAE4WMI_torch_1739033405.json\n",
      "Deleted latte_gasp/results/r3_b0_d2_m10_e2_s666/latte_gasp_data_r3_b0_d2_m10_e2_s666_SAE4WMI_torch_1739033441.json\n",
      "Deleted latte_gasp/results/r4_b0_d2_m10_e2_s666/latte_gasp_data_r4_b0_d2_m10_e2_s666_SAE4WMI_torch_1739032503.json\n",
      "Deleted latte_gasp/results/r4_b0_d2_m10_e2_s666/latte_gasp_data_r4_b0_d2_m10_e2_s666_SAE4WMI_torch_1738976467.json\n",
      "Deleted latte_gasp/results/r4_b0_d2_m10_e2_s666/latte_gasp_data_r4_b0_d2_m10_e2_s666_SAE4WMI_torch_1739033570.json\n",
      "Deleted latte_gasp/results/r4_b0_d2_m10_e1_s666/latte_gasp_data_r4_b0_d2_m10_e1_s666_SAE4WMI_torch_1739032495.json\n",
      "Deleted latte_gasp/results/r4_b0_d2_m10_e1_s666/latte_gasp_data_r4_b0_d2_m10_e1_s666_SAE4WMI_torch_1738976462.json\n",
      "Deleted latte_gasp/results/r4_b0_d2_m10_e1_s666/latte_gasp_data_r4_b0_d2_m10_e1_s666_SAE4WMI_torch_1739033564.json\n",
      "Deleted latte_gasp/results/r3_b0_d3_m10_e0_s666/latte_gasp_data_r3_b0_d3_m10_e0_s666_SAE4WMI_torch_1739033448.json\n",
      "Deleted latte_gasp/results/r3_b0_d3_m10_e0_s666/latte_gasp_data_r3_b0_d3_m10_e0_s666_SAE4WMI_torch_1739033412.json\n",
      "Deleted latte_gasp/results/r3_b0_d3_m10_e0_s666/latte_gasp_data_r3_b0_d3_m10_e0_s666_SAE4WMI_torch_1738976356.json\n",
      "Deleted latte_gasp/results/r3_b0_d3_m10_e0_s666/latte_gasp_data_r3_b0_d3_m10_e0_s666_SAE4WMI_torch_1739032397.json\n",
      "Deleted latte_gasp/results/r5_b0_d2_m10_e2_s666/latte_gasp_data_r5_b0_d2_m10_e2_s666_SAE4WMI_torch_1739033854.json\n",
      "Deleted latte_gasp/results/r5_b0_d2_m10_e2_s666/latte_gasp_data_r5_b0_d2_m10_e2_s666_SAE4WMI_torch_1739032796.json\n",
      "Deleted latte_gasp/results/r5_b0_d2_m10_e2_s666/latte_gasp_data_r5_b0_d2_m10_e2_s666_SAE4WMI_torch_1738976992.json\n",
      "Deleted latte_gasp/results/r3_b0_d4_m10_e0_s666/latte_gasp_data_r3_b0_d4_m10_e0_s666_SAE4WMI_torch_1739032430.json\n",
      "Deleted latte_gasp/results/r3_b0_d4_m10_e0_s666/latte_gasp_data_r3_b0_d4_m10_e0_s666_SAE4WMI_torch_1738976381.json\n",
      "Deleted latte_gasp/results/r3_b0_d4_m10_e0_s666/latte_gasp_data_r3_b0_d4_m10_e0_s666_SAE4WMI_torch_1739033477.json\n",
      "Deleted latte_gasp/results/r5_b0_d3_m10_e2_s666/latte_gasp_data_r5_b0_d3_m10_e2_s666_SAE4WMI_torch_1739032838.json\n",
      "Deleted latte_gasp/results/r5_b0_d3_m10_e2_s666/latte_gasp_data_r5_b0_d3_m10_e2_s666_SAE4WMI_torch_1739033885.json\n",
      "Deleted latte_gasp/results/r5_b0_d3_m10_e2_s666/latte_gasp_data_r5_b0_d3_m10_e2_s666_SAE4WMI_torch_1738977024.json\n",
      "Deleted latte_gasp/results/r4_b0_d3_m10_e0_s666/latte_gasp_data_r4_b0_d3_m10_e0_s666_SAE4WMI_torch_1739032512.json\n",
      "Deleted latte_gasp/results/r4_b0_d3_m10_e0_s666/latte_gasp_data_r4_b0_d3_m10_e0_s666_SAE4WMI_torch_1739033577.json\n",
      "Deleted latte_gasp/results/r4_b0_d3_m10_e0_s666/latte_gasp_data_r4_b0_d3_m10_e0_s666_SAE4WMI_torch_1738976473.json\n",
      "Deleted latte_gasp/results/r3_b0_d3_m10_e2_s666/latte_gasp_data_r3_b0_d3_m10_e2_s666_SAE4WMI_torch_1739033465.json\n",
      "Deleted latte_gasp/results/r3_b0_d3_m10_e2_s666/latte_gasp_data_r3_b0_d3_m10_e2_s666_SAE4WMI_torch_1738976370.json\n",
      "Deleted latte_gasp/results/r3_b0_d3_m10_e2_s666/latte_gasp_data_r3_b0_d3_m10_e2_s666_SAE4WMI_torch_1739032417.json\n",
      "Deleted latte_gasp/results/r4_b0_d2_m10_e0_s666/latte_gasp_data_r4_b0_d2_m10_e0_s666_SAE4WMI_torch_1738976457.json\n",
      "Deleted latte_gasp/results/r4_b0_d2_m10_e0_s666/latte_gasp_data_r4_b0_d2_m10_e0_s666_SAE4WMI_torch_1739032488.json\n",
      "Deleted latte_gasp/results/r4_b0_d2_m10_e0_s666/latte_gasp_data_r4_b0_d2_m10_e0_s666_SAE4WMI_torch_1739033558.json\n",
      "Deleted latte_gasp/results/r5_b0_d4_m10_e0_s666/latte_gasp_data_r5_b0_d4_m10_e0_s666_SAE4WMI_torch_1739032856.json\n",
      "Deleted latte_gasp/results/r5_b0_d4_m10_e0_s666/latte_gasp_data_r5_b0_d4_m10_e0_s666_SAE4WMI_torch_1738977088.json\n",
      "Deleted latte_gasp/results/r5_b0_d4_m10_e0_s666/latte_gasp_data_r5_b0_d4_m10_e0_s666_SAE4WMI_torch_1739033909.json\n",
      "Deleted latte_gasp/results/r4_b0_d4_m10_e1_s666/latte_gasp_data_r4_b0_d4_m10_e1_s666_SAE4WMI_torch_1739032583.json\n",
      "Deleted latte_gasp/results/r4_b0_d4_m10_e1_s666/latte_gasp_data_r4_b0_d4_m10_e1_s666_SAE4WMI_torch_1739033632.json\n",
      "Deleted latte_gasp/results/r4_b0_d4_m10_e1_s666/latte_gasp_data_r4_b0_d4_m10_e1_s666_SAE4WMI_torch_1738976524.json\n",
      "Deleted latte_gasp/results/r4_b0_d4_m10_e2_s666/latte_gasp_data_r4_b0_d4_m10_e2_s666_SAE4WMI_torch_1739032662.json\n",
      "Deleted latte_gasp/results/r4_b0_d4_m10_e2_s666/latte_gasp_data_r4_b0_d4_m10_e2_s666_SAE4WMI_torch_1738976579.json\n",
      "Deleted latte_gasp/results/r4_b0_d4_m10_e2_s666/latte_gasp_data_r4_b0_d4_m10_e2_s666_SAE4WMI_torch_1739033697.json\n",
      "Deleted latte_gasp/results/r3_b0_d2_m10_e1_s666/latte_gasp_data_r3_b0_d2_m10_e1_s666_SAE4WMI_torch_1738976345.json\n",
      "Deleted latte_gasp/results/r3_b0_d2_m10_e1_s666/latte_gasp_data_r3_b0_d2_m10_e1_s666_SAE4WMI_torch_1739032183.json\n",
      "Deleted latte_gasp/results/r3_b0_d2_m10_e1_s666/latte_gasp_data_r3_b0_d2_m10_e1_s666_SAE4WMI_torch_1739033398.json\n",
      "Deleted latte_gasp/results/r3_b0_d2_m10_e1_s666/latte_gasp_data_r3_b0_d2_m10_e1_s666_SAE4WMI_torch_1739032381.json\n",
      "Deleted latte_gasp/results/r3_b0_d2_m10_e1_s666/latte_gasp_data_r3_b0_d2_m10_e1_s666_SAE4WMI_torch_1739033435.json\n",
      "Deleted latte_gasp/results/r5_b0_d3_m10_e0_s666/latte_gasp_data_r5_b0_d3_m10_e0_s666_SAE4WMI_torch_1739033862.json\n",
      "Deleted latte_gasp/results/r5_b0_d3_m10_e0_s666/latte_gasp_data_r5_b0_d3_m10_e0_s666_SAE4WMI_torch_1738977001.json\n",
      "Deleted latte_gasp/results/r5_b0_d3_m10_e0_s666/latte_gasp_data_r5_b0_d3_m10_e0_s666_SAE4WMI_torch_1739032804.json\n",
      "Deleted latte_gasp/results/r4_b0_d3_m10_e2_s666/latte_gasp_data_r4_b0_d3_m10_e2_s666_SAE4WMI_torch_1739032532.json\n",
      "Deleted latte_gasp/results/r4_b0_d3_m10_e2_s666/latte_gasp_data_r4_b0_d3_m10_e2_s666_SAE4WMI_torch_1739033591.json\n",
      "Deleted latte_gasp/results/r4_b0_d3_m10_e2_s666/latte_gasp_data_r4_b0_d3_m10_e2_s666_SAE4WMI_torch_1738976487.json\n",
      "Deleted latte_gasp/results/r4_b0_d4_m10_e0_s666/latte_gasp_data_r4_b0_d4_m10_e0_s666_SAE4WMI_torch_1739033603.json\n",
      "Deleted latte_gasp/results/r4_b0_d4_m10_e0_s666/latte_gasp_data_r4_b0_d4_m10_e0_s666_SAE4WMI_torch_1739032546.json\n",
      "Deleted latte_gasp/results/r4_b0_d4_m10_e0_s666/latte_gasp_data_r4_b0_d4_m10_e0_s666_SAE4WMI_torch_1738976497.json\n",
      "Deleted latte_gasp/results/r5_b0_d2_m10_e0_s666/latte_gasp_data_r5_b0_d2_m10_e0_s666_SAE4WMI_torch_1739033843.json\n",
      "Deleted latte_gasp/results/r5_b0_d2_m10_e0_s666/latte_gasp_data_r5_b0_d2_m10_e0_s666_SAE4WMI_torch_1738976982.json\n",
      "Deleted latte_gasp/results/r5_b0_d2_m10_e0_s666/latte_gasp_data_r5_b0_d2_m10_e0_s666_SAE4WMI_torch_1739032780.json\n",
      "Deleted latte_gasp/results/r3_b0_d2_m10_e0_s666/latte_gasp_data_r3_b0_d2_m10_e0_s666_SAE4WMI_torch_1738976340.json\n",
      "Deleted latte_gasp/results/r3_b0_d2_m10_e0_s666/latte_gasp_data_r3_b0_d2_m10_e0_s666_SAE4WMI_torch_1739032374.json\n",
      "Deleted latte_gasp/results/r3_b0_d2_m10_e0_s666/latte_gasp_data_r3_b0_d2_m10_e0_s666_SAE4WMI_torch_1739033391.json\n",
      "Deleted latte_gasp/results/r3_b0_d2_m10_e0_s666/latte_gasp_data_r3_b0_d2_m10_e0_s666_SAE4WMI_torch_1739032176.json\n",
      "Deleted latte_gasp/results/r3_b0_d2_m10_e0_s666/latte_gasp_data_r3_b0_d2_m10_e0_s666_SAE4WMI_torch_1739033429.json\n",
      "Deleted latte_gasp/results/r3_b0_d4_m10_e2_s666/latte_gasp_data_r3_b0_d4_m10_e2_s666_SAE4WMI_torch_1739033512.json\n",
      "Deleted latte_gasp/results/r3_b0_d4_m10_e2_s666/latte_gasp_data_r3_b0_d4_m10_e2_s666_SAE4WMI_torch_1738976412.json\n",
      "Deleted latte_gasp/results/r3_b0_d4_m10_e2_s666/latte_gasp_data_r3_b0_d4_m10_e2_s666_SAE4WMI_torch_1739032472.json\n",
      "Deleted latte_gasp/results/r3_b0_d3_m10_e1_s666/latte_gasp_data_r3_b0_d3_m10_e1_s666_SAE4WMI_torch_1739033420.json\n",
      "Deleted latte_gasp/results/r3_b0_d3_m10_e1_s666/latte_gasp_data_r3_b0_d3_m10_e1_s666_SAE4WMI_torch_1739033456.json\n",
      "Deleted latte_gasp/results/r3_b0_d3_m10_e1_s666/latte_gasp_data_r3_b0_d3_m10_e1_s666_SAE4WMI_torch_1738976362.json\n",
      "Deleted latte_gasp/results/r3_b0_d3_m10_e1_s666/latte_gasp_data_r3_b0_d3_m10_e1_s666_SAE4WMI_torch_1739032406.json\n",
      "Deleted latte_gasp/results/r5_b0_d4_m10_e1_s666/latte_gasp_data_r5_b0_d4_m10_e1_s666_SAE4WMI_torch_1739033970.json\n",
      "Deleted latte_gasp/results/r5_b0_d4_m10_e1_s666/latte_gasp_data_r5_b0_d4_m10_e1_s666_SAE4WMI_torch_1738977151.json\n",
      "Deleted latte_gasp/results/r5_b0_d4_m10_e1_s666/latte_gasp_data_r5_b0_d4_m10_e1_s666_SAE4WMI_torch_1739032931.json\n"
     ]
    }
   ],
   "source": [
    "import json\n",
    "\n",
    "# delete gasp results\n",
    "for folder_name in os.listdir(\"latte_gasp/results\"):\n",
    "    for file_name in os.listdir(f\"latte_gasp/results/{folder_name}\"):\n",
    "        if file_name.endswith(\".json\"):\n",
    "            # load json file\n",
    "            filename = f\"latte_gasp/results/{folder_name}/{file_name}\"\n",
    "            with open(filename, \"r\") as f:\n",
    "                data = json.load(f)\n",
    "\n",
    "            if data[\"wmi_id\"] == \"SAE4WMI_torch\":\n",
    "                # os.remove(filename)\n",
    "                print(f\"Deleted {filename}\")"
   ]
  },
  {
   "cell_type": "code",
   "execution_count": 8,
   "metadata": {},
   "outputs": [
    {
     "name": "stdout",
     "output_type": "stream",
     "text": [
      "weird! latte_gasp/results/r5_b0_d4_m10_e2_s666/latte_gasp_data_r5_b0_d4_m10_e2_s666_SAE4WMI_torch_1739034227.json\n",
      "weird! latte_gasp/results/r5_b0_d4_m10_e2_s666/latte_gasp_data_r5_b0_d4_m10_e2_s666_SAE4WMI_torch_1739034227.json\n",
      "weird! latte_gasp/results/r5_b0_d4_m10_e2_s666/latte_gasp_data_r5_b0_d4_m10_e2_s666_SAE4WMI_torch_1739034227.json\n",
      "weird! latte_gasp/results/r5_b0_d2_m10_e2_s666/latte_gasp_data_r5_b0_d2_m10_e2_s666_SAE4WMI_torch_1739033854.json\n",
      "weird! latte_gasp/results/r5_b0_d3_m10_e2_s666/latte_gasp_data_r5_b0_d3_m10_e2_s666_SAE4WMI_torch_1739033885.json\n",
      "weird! latte_gasp/results/r5_b0_d3_m10_e2_s666/latte_gasp_data_r5_b0_d3_m10_e2_s666_SAE4WMI_torch_1739033885.json\n",
      "weird! latte_gasp/results/r4_b0_d4_m10_e2_s666/latte_gasp_data_r4_b0_d4_m10_e2_s666_SAE4WMI_torch_1739033697.json\n",
      "weird! latte_gasp/results/r4_b0_d4_m10_e2_s666/latte_gasp_data_r4_b0_d4_m10_e2_s666_SAE4WMI_torch_1739033697.json\n",
      "weird! latte_gasp/results/r4_b0_d4_m10_e2_s666/latte_gasp_data_r4_b0_d4_m10_e2_s666_SAE4WMI_torch_1739033697.json\n",
      "weird! latte_gasp/results/r5_b0_d4_m10_e1_s666/latte_gasp_data_r5_b0_d4_m10_e1_s666_SAE4WMI_torch_1739033970.json\n",
      "weird! latte_gasp/results/r5_b0_d4_m10_e1_s666/latte_gasp_data_r5_b0_d4_m10_e1_s666_SAE4WMI_torch_1739033970.json\n",
      "weird! latte_gasp/results/r5_b0_d4_m10_e1_s666/latte_gasp_data_r5_b0_d4_m10_e1_s666_SAE4WMI_torch_1739033970.json\n",
      "weird! latte_gasp/results/r5_b0_d4_m10_e1_s666/latte_gasp_data_r5_b0_d4_m10_e1_s666_SAE4WMI_torch_1739033970.json\n",
      "weird! latte_gasp/results/r5_b0_d4_m10_e1_s666/latte_gasp_data_r5_b0_d4_m10_e1_s666_SAE4WMI_torch_1739033970.json\n",
      "weird! latte_gasp/results/r5_b0_d4_m10_e1_s666/latte_gasp_data_r5_b0_d4_m10_e1_s666_SAE4WMI_torch_1739033970.json\n",
      "15\n"
     ]
    }
   ],
   "source": [
    "import json\n",
    "\n",
    "count_failures = 0\n",
    "\n",
    "# delete gasp results\n",
    "for folder_name in os.listdir(\"latte_gasp/results\"):\n",
    "    for file_name in os.listdir(f\"latte_gasp/results/{folder_name}\"):\n",
    "        if file_name.endswith(\".json\"):\n",
    "            # load json file\n",
    "            filename = f\"latte_gasp/results/{folder_name}/{file_name}\"\n",
    "            with open(filename, \"r\") as f:\n",
    "                data = json.load(f)\n",
    "\n",
    "            if data[\"wmi_id\"] == \"SAE4WMI_torch\":\n",
    "                for result in data[\"results\"]:\n",
    "                    # if its not a float or can be converted to a float\n",
    "                    if not isinstance(result[\"value\"], float):\n",
    "                        # print(f\"weird! {filename}\")\n",
    "                        try:\n",
    "                            float(result[\"value\"])\n",
    "                        except:\n",
    "                            print(f\"weird! {filename}\")\n",
    "                            # os.remove(filename)\n",
    "                            # break\n",
    "                            count_failures += 1\n",
    "\n",
    "print(count_failures)"
   ]
  },
  {
   "cell_type": "code",
   "execution_count": 17,
   "metadata": {},
   "outputs": [
    {
     "name": "stdout",
     "output_type": "stream",
     "text": [
      "Found 115 results files.\n",
      "Parsed 270 points.\n",
      "Gasp (torch) is faster on 270 points.\n"
     ]
    }
   ],
   "source": [
    "import latte_gasp_scatterplots as lgs\n",
    "\n",
    "# retrieving results\n",
    "results_files = []\n",
    "for folder in [lgs.DEF_FOLDER]:\n",
    "    for sub in os.listdir(folder):\n",
    "        fullpath = os.path.join(folder, sub)\n",
    "        if os.path.isfile(fullpath) and fullpath.endswith(\".json\"):\n",
    "            results_files.append(fullpath)\n",
    "        else:\n",
    "            results_files.extend(\n",
    "                [os.path.join(fullpath, f)\n",
    "                    for f in os.listdir(fullpath)\n",
    "                    if os.path.isfile(os.path.join(fullpath, f))\n",
    "                    and f.endswith(\".json\")]\n",
    "            )\n",
    "\n",
    "print(f\"Found {len(results_files)} results files.\")\n",
    "\n",
    "# parsing results\n",
    "points = dict()\n",
    "for res_file in results_files:\n",
    "\n",
    "    with open(res_file, \"r\") as f:\n",
    "        res_dict = json.load(f)\n",
    "        int_name = res_dict[\"integrator\"][\"name\"]\n",
    "        assert(int_name in lgs.INTEGRATORS), f\"{int_name} unsupported.\"\n",
    "        int_id = lgs.INTEGRATORS.index(int_name)\n",
    "\n",
    "        for entry in res_dict[\"results\"]:\n",
    "\n",
    "            p = entry[\"filename\"]\n",
    "            if p not in points:\n",
    "                points[p] = [None, None]\n",
    "\n",
    "            runtime = entry[\"parallel_time\"]\n",
    "            if points[p][int_id] is None or runtime < points[p][int_id]:\n",
    "                points[p][int_id] = runtime\n",
    "            # points[p][int_id] = runtime\n",
    "\n",
    "print(f\"Parsed {len(points)} points.\")\n",
    "\n",
    "# preprocessing results\n",
    "def process(val):\n",
    "    #if val is None: return MISSING_VAL\n",
    "    return val or lgs.MISSING_VAL\n",
    "\n",
    "import numpy as np\n",
    "\n",
    "latte_faster_files = []\n",
    "\n",
    "xs, ys = [], []\n",
    "latte_faster = 0\n",
    "min_val = np.inf\n",
    "for key, xy in points.items():\n",
    "    if results_total_degree[key] <= 20:\n",
    "            continue\n",
    "    if xy[0] is not None and  xy[1] is not None and xy[0] < xy[1]:\n",
    "        latte_faster += 1\n",
    "        print(f\"LattE is faster on {key}.\")\n",
    "        latte_faster_files.append(key)\n",
    "    if xy[0] is None:\n",
    "        print(f\"Missing value for {key} for latte.\")\n",
    "    if xy[1] is None:\n",
    "        print(f\"Missing value for {key} for torch.\")\n",
    "    x, y = map(process, xy)\n",
    "    xs.append(x)\n",
    "    ys.append(y)\n",
    "    if x < min_val: min_val = x\n",
    "    if y < min_val: min_val = y\n",
    "\n",
    "\n",
    "print(f\"Gasp (torch) is faster on {len(points) - latte_faster} points.\")"
   ]
  },
  {
   "cell_type": "code",
   "execution_count": 10,
   "metadata": {},
   "outputs": [
    {
     "data": {
      "text/plain": [
       "['latte_gasp/data/r4_b0_d2_m10_e1_s666/r4_b0_d2_exp1_s666_01.json',\n",
       " 'latte_gasp/data/r3_b0_d3_m10_e0_s666/r3_b0_d3_exp0_s666_01.json',\n",
       " 'latte_gasp/data/r3_b0_d3_m10_e2_s666/r3_b0_d3_exp2_s666_01.json',\n",
       " 'latte_gasp/data/r4_b0_d2_m10_e0_s666/r4_b0_d2_exp0_s666_01.json',\n",
       " 'latte_gasp/data/r3_b0_d2_m10_e1_s666/r3_b0_d2_exp1_s666_01.json',\n",
       " 'latte_gasp/data/r3_b0_d2_m10_e0_s666/r3_b0_d2_exp0_s666_01.json',\n",
       " 'latte_gasp/data/r3_b0_d3_m10_e1_s666/r3_b0_d3_exp1_s666_01.json']"
      ]
     },
     "execution_count": 10,
     "metadata": {},
     "output_type": "execute_result"
    }
   ],
   "source": [
    "latte_faster_files"
   ]
  },
  {
   "cell_type": "code",
   "execution_count": 11,
   "metadata": {},
   "outputs": [
    {
     "name": "stdout",
     "output_type": "stream",
     "text": [
      "8\n",
      "0\n",
      "10\n",
      "0\n",
      "12\n",
      "0\n",
      "8\n"
     ]
    }
   ],
   "source": [
    "for latte_faster_file in latte_faster_files:\n",
    "    print(results_total_degree[latte_faster_file])"
   ]
  },
  {
   "cell_type": "code",
   "execution_count": 12,
   "metadata": {},
   "outputs": [
    {
     "name": "stdout",
     "output_type": "stream",
     "text": [
      "Geometric mean: 12.56.\n",
      "Total time latte: 12146.01s, torch: 1611.34s.\n"
     ]
    }
   ],
   "source": [
    "speedups = []\n",
    "total_time_latte = 0\n",
    "total_time_torch = 0\n",
    "\n",
    "for key, xy in points.items():\n",
    "    if xy[0] is not None and  xy[1] is not None:\n",
    "        if results_total_degree[key] <= 30:\n",
    "            continue\n",
    "        speedups.append(xy[0] / xy[1])\n",
    "        total_time_latte += xy[0]\n",
    "        total_time_torch += xy[1]\n",
    "\n",
    "# gemoetric mean\n",
    "geo_mean = np.prod(speedups) ** (1 / len(speedups))\n",
    "print(f\"Geometric mean: {geo_mean:.2f}.\")\n",
    "\n",
    "print(f\"Total time latte: {total_time_latte:.2f}s, torch: {total_time_torch:.2f}s.\")"
   ]
  },
  {
   "cell_type": "code",
   "execution_count": 13,
   "metadata": {},
   "outputs": [
    {
     "data": {
      "text/plain": [
       "18"
      ]
     },
     "execution_count": 13,
     "metadata": {},
     "output_type": "execute_result"
    }
   ],
   "source": [
    "len(speedups)"
   ]
  },
  {
   "cell_type": "code",
   "execution_count": null,
   "metadata": {},
   "outputs": [],
   "source": []
  },
  {
   "cell_type": "code",
   "execution_count": 18,
   "metadata": {},
   "outputs": [
    {
     "name": "stderr",
     "output_type": "stream",
     "text": [
      "/disk/scratch/lkurscheidt/.conda/envs/wmipa/lib/python3.12/site-packages/matplotlib/scale.py:255: RuntimeWarning: overflow encountered in power\n",
      "  return np.power(self.base, values)\n"
     ]
    },
    {
     "data": {
      "image/png": "[encoded data removed]",
      "text/plain": [
       "<Figure size 640x480 with 1 Axes>"
      ]
     },
     "metadata": {},
     "output_type": "display_data"
    }
   ],
   "source": [
    "# plotting results\n",
    "fig = plt.figure()\n",
    "ax = fig.add_subplot()\n",
    "ax.set_title(lgs.TITLE)\n",
    "ax.set_xlabel(lgs.XLABEL)\n",
    "ax.set_ylabel(lgs.YLABEL)\n",
    "ax.set_aspect(\"equal\")\n",
    "\n",
    "ax.set_xlim([10 ** lgs.MIN_EXP, lgs.TIMEOUT_VAL + 10**3])\n",
    "ax.set_ylim([10 ** lgs.MIN_EXP, lgs.TIMEOUT_VAL + 10**3])\n",
    "ax.set_xscale(\"log\")\n",
    "ax.set_yscale(\"log\")\n",
    "    \n",
    "ax.axhline(lgs.TIMEOUT_VAL, 0, lgs.TIMEOUT_VAL, linestyle=\"--\", color=lgs.TIMEOUT_COLOR) # timeout lines and label\n",
    "ax.axvline(lgs.TIMEOUT_VAL, 0, lgs.TIMEOUT_VAL, linestyle=\"--\", color=lgs.TIMEOUT_COLOR)\n",
    "ax.annotate(\"timeout\", (0.02, 0.9), xycoords='axes fraction', color=lgs.TIMEOUT_COLOR)\n",
    "\n",
    "ax.plot([10 ** lgs.MIN_EXP, lgs.TIMEOUT_VAL], [10 ** lgs.MIN_EXP, lgs.TIMEOUT_VAL], linestyle=\"--\", color=lgs.DIAGONAL_COLOR) # diagonals\n",
    "for i in range(1, 6):\n",
    "    ax.plot([10 ** (lgs.MIN_EXP + i), lgs.TIMEOUT_VAL], [10 ** lgs.MIN_EXP, 10**(np.log10(lgs.TIMEOUT_VAL) - i)], linestyle=\"--\", color=lgs.DIAGONAL_COLOR, alpha=(1 - 0.1*i))\n",
    "    ax.plot([10 ** lgs.MIN_EXP, 10**(np.log10(lgs.TIMEOUT_VAL) - i)], [10 ** (lgs.MIN_EXP + i), lgs.TIMEOUT_VAL], linestyle=\"--\", color=lgs.DIAGONAL_COLOR, alpha=(1 - 0.2*i))\n",
    "\n",
    "ax.scatter(xs, ys, marker=lgs.MARKER, color=lgs.COLOR, alpha=lgs.ALPHA)\n",
    "\n",
    "# plot x and y grid lines, but only major ticks\n",
    "ax.xaxis.set_major_formatter(plt.ScalarFormatter())\n",
    "ax.yaxis.set_major_formatter(plt.ScalarFormatter())\n",
    "ax.xaxis.set_major_locator(plt.LogLocator(base=10.0, numticks=15))\n",
    "ax.yaxis.set_major_locator(plt.LogLocator(base=10.0, numticks=15))\n",
    "ax.grid(which=\"major\", axis=\"both\", linestyle=\"--\")\n",
    "ax.set_axisbelow(True)\n",
    "\n",
    "plt.savefig(\"scatter.pdf\", bbox_inches='tight', pad_inches=0)\n",
    "plt.show()"
   ]
  },
  {
   "cell_type": "code",
   "execution_count": null,
   "metadata": {},
   "outputs": [],
   "source": []
  }
 ],
 "metadata": {
  "kernelspec": {
   "display_name": "wmipa",
   "language": "python",
   "name": "python3"
  },
  "language_info": {
   "codemirror_mode": {
    "name": "ipython",
    "version": 3
   },
   "file_extension": ".py",
   "mimetype": "text/x-python",
   "name": "python",
   "nbconvert_exporter": "python",
   "pygments_lexer": "ipython3",
   "version": "3.12.7"
  }
 },
 "nbformat": 4,
 "nbformat_minor": 2
}
